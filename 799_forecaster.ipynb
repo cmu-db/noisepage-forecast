{
  "cells": [
    {
      "cell_type": "markdown",
      "metadata": {
        "id": "-OTNlok55qO-"
      },
      "source": [
        "# Import"
      ]
    },
    {
      "cell_type": "code",
      "execution_count": 1,
      "metadata": {
        "colab": {
          "base_uri": "https://localhost:8080/"
        },
        "id": "fiLO6qXeGrVN",
        "outputId": "b4aaf8f6-8d8f-4d12-d887-6ce6e87414cd"
      },
      "outputs": [
        {
          "output_type": "stream",
          "name": "stdout",
          "text": [
            "Requirement already satisfied: torchsummaryX in /usr/local/lib/python3.7/dist-packages (1.3.0)\n",
            "Requirement already satisfied: numpy in /usr/local/lib/python3.7/dist-packages (from torchsummaryX) (1.21.5)\n",
            "Requirement already satisfied: pandas in /usr/local/lib/python3.7/dist-packages (from torchsummaryX) (1.3.5)\n",
            "Requirement already satisfied: torch in /usr/local/lib/python3.7/dist-packages (from torchsummaryX) (1.10.0+cu111)\n",
            "Requirement already satisfied: python-dateutil>=2.7.3 in /usr/local/lib/python3.7/dist-packages (from pandas->torchsummaryX) (2.8.2)\n",
            "Requirement already satisfied: pytz>=2017.3 in /usr/local/lib/python3.7/dist-packages (from pandas->torchsummaryX) (2018.9)\n",
            "Requirement already satisfied: six>=1.5 in /usr/local/lib/python3.7/dist-packages (from python-dateutil>=2.7.3->pandas->torchsummaryX) (1.15.0)\n",
            "Requirement already satisfied: typing-extensions in /usr/local/lib/python3.7/dist-packages (from torch->torchsummaryX) (3.10.0.2)\n"
          ]
        }
      ],
      "source": [
        "!pip install torchsummaryX"
      ]
    },
    {
      "cell_type": "code",
      "execution_count": 2,
      "metadata": {
        "id": "kbiZ8EuA5uQs"
      },
      "outputs": [],
      "source": [
        "import torch\n",
        "import numpy as np\n",
        "import torch.nn as nn\n",
        "from torchsummaryX import summary\n",
        "from tqdm import tqdm\n",
        "\n",
        "from sklearn.model_selection import train_test_split\n"
      ]
    },
    {
      "cell_type": "markdown",
      "metadata": {
        "id": "Q8n20LGLIEjF"
      },
      "source": [
        "# Constants"
      ]
    },
    {
      "cell_type": "code",
      "execution_count": 3,
      "metadata": {
        "id": "G7NrBoP650oi"
      },
      "outputs": [],
      "source": [
        "num_quantiles = 11 # H_in\n",
        "look_back_window = 5 # L\n",
        "hidden_size = 128\n",
        "n = 50\n",
        "\n",
        "device = 'cuda' if torch.cuda.is_available() else 'cpu'"
      ]
    },
    {
      "cell_type": "markdown",
      "metadata": {
        "id": "0A1miqTBCjyx"
      },
      "source": [
        "# Load Data"
      ]
    },
    {
      "cell_type": "code",
      "execution_count": 4,
      "metadata": {
        "id": "5zqok2bYCjyy",
        "outputId": "718229cb-bfed-49f9-b08a-7c6d43ca45ef",
        "colab": {
          "base_uri": "https://localhost:8080/"
        }
      },
      "outputs": [
        {
          "output_type": "stream",
          "name": "stdout",
          "text": [
            "float64 float64\n",
            "(5, 2997, 11) (5, 333, 11) (2997, 11) (333, 11)\n"
          ]
        }
      ],
      "source": [
        "data = np.load('./noisepage-forecast/param_training_data.npz', allow_pickle=True)\n",
        "X = data[\"X\"]\n",
        "Y = data[\"Y\"]\n",
        "# Split into train test set\n",
        "X_train, X_test, y_train, y_test = train_test_split(X, Y, shuffle=False, test_size=0.1)\n",
        "print(X.dtype, X_train.dtype)\n",
        "\n",
        "# X: (N, L, H_in) to (L, N, H_in);\n",
        "X_train, X_test = np.transpose(X_train, (1, 0, 2)), np.transpose(X_test, (1, 0, 2))\n",
        "print(X_train.shape, X_test.shape, y_train.shape, y_test.shape)"
      ]
    },
    {
      "cell_type": "markdown",
      "metadata": {
        "id": "9HekmMW89Q7S"
      },
      "source": [
        "# Model"
      ]
    },
    {
      "cell_type": "code",
      "execution_count": 24,
      "metadata": {
        "colab": {
          "base_uri": "https://localhost:8080/",
          "height": 504
        },
        "id": "Kw2sDJk-9TwD",
        "outputId": "70978d4a-e49c-44ea-cc8e-f8cd43a8f4f5"
      },
      "outputs": [
        {
          "output_type": "stream",
          "name": "stdout",
          "text": [
            "===========================================================================\n",
            "                             Kernel Shape Output Shape   Params Mult-Adds\n",
            "Layer                                                                    \n",
            "0_lstm                                  -  [5, 1, 128]  468.48k  464.384k\n",
            "1_classification.Linear_0       [128, 64]   [5, 1, 64]   8.256k    8.192k\n",
            "2_classification.LeakyReLU_1            -   [5, 1, 64]        -         -\n",
            "3_classification.Linear_2        [64, 11]   [5, 1, 11]    715.0     704.0\n",
            "---------------------------------------------------------------------------\n",
            "                        Totals\n",
            "Total params          477.451k\n",
            "Trainable params      477.451k\n",
            "Non-trainable params       0.0\n",
            "Mult-Adds              473.28k\n",
            "===========================================================================\n"
          ]
        },
        {
          "output_type": "stream",
          "name": "stderr",
          "text": [
            "/usr/local/lib/python3.7/dist-packages/torchsummaryX/torchsummaryX.py:101: FutureWarning: Dropping of nuisance columns in DataFrame reductions (with 'numeric_only=None') is deprecated; in a future version this will raise TypeError.  Select only valid columns before calling the reduction.\n",
            "  df_sum = df.sum()\n"
          ]
        },
        {
          "output_type": "execute_result",
          "data": {
            "text/plain": [
              "                             Kernel Shape Output Shape    Params  Mult-Adds\n",
              "Layer                                                                      \n",
              "0_lstm                                  -  [5, 1, 128]  468480.0   464384.0\n",
              "1_classification.Linear_0       [128, 64]   [5, 1, 64]    8256.0     8192.0\n",
              "2_classification.LeakyReLU_1            -   [5, 1, 64]       NaN        NaN\n",
              "3_classification.Linear_2        [64, 11]   [5, 1, 11]     715.0      704.0"
            ],
            "text/html": [
              "\n",
              "  <div id=\"df-24a037c8-fcd0-4615-9521-70c28982c50a\">\n",
              "    <div class=\"colab-df-container\">\n",
              "      <div>\n",
              "<style scoped>\n",
              "    .dataframe tbody tr th:only-of-type {\n",
              "        vertical-align: middle;\n",
              "    }\n",
              "\n",
              "    .dataframe tbody tr th {\n",
              "        vertical-align: top;\n",
              "    }\n",
              "\n",
              "    .dataframe thead th {\n",
              "        text-align: right;\n",
              "    }\n",
              "</style>\n",
              "<table border=\"1\" class=\"dataframe\">\n",
              "  <thead>\n",
              "    <tr style=\"text-align: right;\">\n",
              "      <th></th>\n",
              "      <th>Kernel Shape</th>\n",
              "      <th>Output Shape</th>\n",
              "      <th>Params</th>\n",
              "      <th>Mult-Adds</th>\n",
              "    </tr>\n",
              "    <tr>\n",
              "      <th>Layer</th>\n",
              "      <th></th>\n",
              "      <th></th>\n",
              "      <th></th>\n",
              "      <th></th>\n",
              "    </tr>\n",
              "  </thead>\n",
              "  <tbody>\n",
              "    <tr>\n",
              "      <th>0_lstm</th>\n",
              "      <td>-</td>\n",
              "      <td>[5, 1, 128]</td>\n",
              "      <td>468480.0</td>\n",
              "      <td>464384.0</td>\n",
              "    </tr>\n",
              "    <tr>\n",
              "      <th>1_classification.Linear_0</th>\n",
              "      <td>[128, 64]</td>\n",
              "      <td>[5, 1, 64]</td>\n",
              "      <td>8256.0</td>\n",
              "      <td>8192.0</td>\n",
              "    </tr>\n",
              "    <tr>\n",
              "      <th>2_classification.LeakyReLU_1</th>\n",
              "      <td>-</td>\n",
              "      <td>[5, 1, 64]</td>\n",
              "      <td>NaN</td>\n",
              "      <td>NaN</td>\n",
              "    </tr>\n",
              "    <tr>\n",
              "      <th>3_classification.Linear_2</th>\n",
              "      <td>[64, 11]</td>\n",
              "      <td>[5, 1, 11]</td>\n",
              "      <td>715.0</td>\n",
              "      <td>704.0</td>\n",
              "    </tr>\n",
              "  </tbody>\n",
              "</table>\n",
              "</div>\n",
              "      <button class=\"colab-df-convert\" onclick=\"convertToInteractive('df-24a037c8-fcd0-4615-9521-70c28982c50a')\"\n",
              "              title=\"Convert this dataframe to an interactive table.\"\n",
              "              style=\"display:none;\">\n",
              "        \n",
              "  <svg xmlns=\"http://www.w3.org/2000/svg\" height=\"24px\"viewBox=\"0 0 24 24\"\n",
              "       width=\"24px\">\n",
              "    <path d=\"M0 0h24v24H0V0z\" fill=\"none\"/>\n",
              "    <path d=\"M18.56 5.44l.94 2.06.94-2.06 2.06-.94-2.06-.94-.94-2.06-.94 2.06-2.06.94zm-11 1L8.5 8.5l.94-2.06 2.06-.94-2.06-.94L8.5 2.5l-.94 2.06-2.06.94zm10 10l.94 2.06.94-2.06 2.06-.94-2.06-.94-.94-2.06-.94 2.06-2.06.94z\"/><path d=\"M17.41 7.96l-1.37-1.37c-.4-.4-.92-.59-1.43-.59-.52 0-1.04.2-1.43.59L10.3 9.45l-7.72 7.72c-.78.78-.78 2.05 0 2.83L4 21.41c.39.39.9.59 1.41.59.51 0 1.02-.2 1.41-.59l7.78-7.78 2.81-2.81c.8-.78.8-2.07 0-2.86zM5.41 20L4 18.59l7.72-7.72 1.47 1.35L5.41 20z\"/>\n",
              "  </svg>\n",
              "      </button>\n",
              "      \n",
              "  <style>\n",
              "    .colab-df-container {\n",
              "      display:flex;\n",
              "      flex-wrap:wrap;\n",
              "      gap: 12px;\n",
              "    }\n",
              "\n",
              "    .colab-df-convert {\n",
              "      background-color: #E8F0FE;\n",
              "      border: none;\n",
              "      border-radius: 50%;\n",
              "      cursor: pointer;\n",
              "      display: none;\n",
              "      fill: #1967D2;\n",
              "      height: 32px;\n",
              "      padding: 0 0 0 0;\n",
              "      width: 32px;\n",
              "    }\n",
              "\n",
              "    .colab-df-convert:hover {\n",
              "      background-color: #E2EBFA;\n",
              "      box-shadow: 0px 1px 2px rgba(60, 64, 67, 0.3), 0px 1px 3px 1px rgba(60, 64, 67, 0.15);\n",
              "      fill: #174EA6;\n",
              "    }\n",
              "\n",
              "    [theme=dark] .colab-df-convert {\n",
              "      background-color: #3B4455;\n",
              "      fill: #D2E3FC;\n",
              "    }\n",
              "\n",
              "    [theme=dark] .colab-df-convert:hover {\n",
              "      background-color: #434B5C;\n",
              "      box-shadow: 0px 1px 3px 1px rgba(0, 0, 0, 0.15);\n",
              "      filter: drop-shadow(0px 1px 2px rgba(0, 0, 0, 0.3));\n",
              "      fill: #FFFFFF;\n",
              "    }\n",
              "  </style>\n",
              "\n",
              "      <script>\n",
              "        const buttonEl =\n",
              "          document.querySelector('#df-24a037c8-fcd0-4615-9521-70c28982c50a button.colab-df-convert');\n",
              "        buttonEl.style.display =\n",
              "          google.colab.kernel.accessAllowed ? 'block' : 'none';\n",
              "\n",
              "        async function convertToInteractive(key) {\n",
              "          const element = document.querySelector('#df-24a037c8-fcd0-4615-9521-70c28982c50a');\n",
              "          const dataTable =\n",
              "            await google.colab.kernel.invokeFunction('convertToInteractive',\n",
              "                                                     [key], {});\n",
              "          if (!dataTable) return;\n",
              "\n",
              "          const docLinkHtml = 'Like what you see? Visit the ' +\n",
              "            '<a target=\"_blank\" href=https://colab.research.google.com/notebooks/data_table.ipynb>data table notebook</a>'\n",
              "            + ' to learn more about interactive tables.';\n",
              "          element.innerHTML = '';\n",
              "          dataTable['output_type'] = 'display_data';\n",
              "          await google.colab.output.renderOutput(dataTable, element);\n",
              "          const docLink = document.createElement('div');\n",
              "          docLink.innerHTML = docLinkHtml;\n",
              "          element.appendChild(docLink);\n",
              "        }\n",
              "      </script>\n",
              "    </div>\n",
              "  </div>\n",
              "  "
            ]
          },
          "metadata": {},
          "execution_count": 24
        }
      ],
      "source": [
        "class Network(nn.Module):\n",
        "\n",
        "    def __init__(self, input_size, output_size, hidden_size, num_layers=4): # You can add any extra arguments as you wish\n",
        "\n",
        "        super(Network, self).__init__()\n",
        "        \n",
        "        self.lstm = nn.LSTM(input_size=input_size, hidden_size=hidden_size, num_layers=num_layers, bidirectional=False)\n",
        "        self.classification = nn.Sequential(\n",
        "                                             nn.Linear(in_features=hidden_size, out_features=64),\n",
        "                                             nn.LeakyReLU(),\n",
        "                                             nn.Linear(in_features=64, out_features=output_size)\n",
        "        )\n",
        "\n",
        "    def forward(self, x):\n",
        "        output, (h_n, c_n) = self.lstm(x)\n",
        "        # output: (L, 1 * H_out)\n",
        "\n",
        "        out = self.classification(output)\n",
        "        return out\n",
        "\n",
        "model = Network(num_quantiles, num_quantiles, hidden_size).to(device)\n",
        "summary(model, torch.tensor(X_train[:, :1, :]).to(device).float())"
      ]
    },
    {
      "cell_type": "markdown",
      "metadata": {
        "id": "nY1oWYnVISeC"
      },
      "source": [
        "# Model Parameters"
      ]
    },
    {
      "cell_type": "code",
      "execution_count": 25,
      "metadata": {
        "id": "qs58F7wmIL1D"
      },
      "outputs": [],
      "source": [
        "epochs = 50\n",
        "lr = 0.0001\n",
        "loss_function = nn.MSELoss()\n",
        "optimizer = torch.optim.Adam(model.parameters(), lr=lr)"
      ]
    },
    {
      "cell_type": "markdown",
      "metadata": {
        "id": "tbIHPvUsJ96V"
      },
      "source": [
        "# Model Training"
      ]
    },
    {
      "cell_type": "code",
      "execution_count": null,
      "metadata": {
        "colab": {
          "base_uri": "https://localhost:8080/"
        },
        "id": "fsHYxBhLIrpt",
        "outputId": "b4263ccd-05e7-4895-ee56-1a7af45cc4e2"
      },
      "outputs": [
        {
          "output_type": "stream",
          "name": "stderr",
          "text": [
            "Train:  17%|█▋        | 506/2997 [00:08<00:39, 62.32it/s, loss=0.0073, lr=0.0001]"
          ]
        }
      ],
      "source": [
        "for epoch in range(epochs):\n",
        "    model.train()\n",
        "    arr = np.arange(X_train.shape[1])\n",
        "    np.random.shuffle(arr)\n",
        "    train_loss = 0\n",
        "    batch_bar = tqdm(total=X_train.shape[1], dynamic_ncols=True, leave=False, position=0, desc='Train') \n",
        "    for ind in arr:\n",
        "        seq = torch.tensor(X_train[:, ind:ind+1, :]).to(device).float()\n",
        "        labels = torch.tensor(y_train[ind]).to(device).float()\n",
        "        optimizer.zero_grad()\n",
        "        y_pred = model(seq)\n",
        "        single_loss = loss_function(y_pred[-1, -1, :], labels)\n",
        "        single_loss.backward()\n",
        "        optimizer.step()\n",
        "        train_loss += float(single_loss)\n",
        "\n",
        "        batch_bar.set_postfix(\n",
        "            loss=\"{:.04f}\".format(float(train_loss / (ind + 1))),\n",
        "            lr=\"{:.04f}\".format(float(optimizer.param_groups[0]['lr'])))\n",
        "        batch_bar.update()\n",
        "\n",
        "    train_loss /= X_train.shape[1]\n",
        "    batch_bar.close()\n",
        "    \n",
        "    # Validation loss\n",
        "    model.eval()\n",
        "    val_loss = 0\n",
        "    batch_bar = tqdm(total=X_train.shape[1], dynamic_ncols=True, leave=False, position=0, desc='Train') \n",
        "    for ind in range(X_test.shape[1]):\n",
        "        seq = torch.tensor(X_test[:, ind:ind+1, :]).to(device).float()\n",
        "        labels = torch.tensor(y_test[ind]).to(device).float()\n",
        "\n",
        "        with torch.no_grad():\n",
        "            y_pred = model(seq)\n",
        "\n",
        "        single_loss = loss_function(y_pred[-1, -1, :], labels)\n",
        "        val_loss += float(single_loss)\n",
        "        batch_bar.update()\n",
        "    val_loss /= X_test.shape[1]\n",
        "    batch_bar.close()\n",
        "\n",
        "    print(f\"[LSTM FIT]epoch: {epoch + 1:3}, train_loss: {train_loss:10.8f}, val_loss: {val_loss:10.8f}\")"
      ]
    },
    {
      "cell_type": "code",
      "execution_count": null,
      "metadata": {
        "id": "ipR1UOxyNPqa"
      },
      "outputs": [],
      "source": [
        ""
      ]
    }
  ],
  "metadata": {
    "colab": {
      "collapsed_sections": [],
      "name": "799_forecaster.ipynb",
      "provenance": []
    },
    "kernelspec": {
      "display_name": "Python 3",
      "name": "python3"
    },
    "language_info": {
      "codemirror_mode": {
        "name": "ipython",
        "version": 3
      },
      "file_extension": ".py",
      "mimetype": "text/x-python",
      "name": "python",
      "nbconvert_exporter": "python",
      "pygments_lexer": "ipython3",
      "version": "3.7.11"
    }
  },
  "nbformat": 4,
  "nbformat_minor": 0
}