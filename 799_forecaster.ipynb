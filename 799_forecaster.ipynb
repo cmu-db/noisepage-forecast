{
  "nbformat": 4,
  "nbformat_minor": 0,
  "metadata": {
    "colab": {
      "name": "799_forecaster.ipynb",
      "provenance": [],
      "collapsed_sections": []
    },
    "kernelspec": {
      "name": "python3",
      "display_name": "Python 3"
    },
    "language_info": {
      "name": "python"
    }
  },
  "cells": [
    {
      "cell_type": "markdown",
      "source": [
        "# Import"
      ],
      "metadata": {
        "id": "-OTNlok55qO-"
      }
    },
    {
      "cell_type": "code",
      "source": [
        "!pip install torchsummaryX"
      ],
      "metadata": {
        "colab": {
          "base_uri": "https://localhost:8080/"
        },
        "id": "fiLO6qXeGrVN",
        "outputId": "d13aa8a0-b860-45fe-c787-1034e2d001e6"
      },
      "execution_count": 1,
      "outputs": [
        {
          "output_type": "stream",
          "name": "stdout",
          "text": [
            "Requirement already satisfied: torchsummaryX in /usr/local/lib/python3.7/dist-packages (1.3.0)\n",
            "Requirement already satisfied: pandas in /usr/local/lib/python3.7/dist-packages (from torchsummaryX) (1.3.5)\n",
            "Requirement already satisfied: numpy in /usr/local/lib/python3.7/dist-packages (from torchsummaryX) (1.21.5)\n",
            "Requirement already satisfied: torch in /usr/local/lib/python3.7/dist-packages (from torchsummaryX) (1.10.0+cu111)\n",
            "Requirement already satisfied: python-dateutil>=2.7.3 in /usr/local/lib/python3.7/dist-packages (from pandas->torchsummaryX) (2.8.2)\n",
            "Requirement already satisfied: pytz>=2017.3 in /usr/local/lib/python3.7/dist-packages (from pandas->torchsummaryX) (2018.9)\n",
            "Requirement already satisfied: six>=1.5 in /usr/local/lib/python3.7/dist-packages (from python-dateutil>=2.7.3->pandas->torchsummaryX) (1.15.0)\n",
            "Requirement already satisfied: typing-extensions in /usr/local/lib/python3.7/dist-packages (from torch->torchsummaryX) (3.10.0.2)\n"
          ]
        }
      ]
    },
    {
      "cell_type": "code",
      "source": [
        "import torch\n",
        "import numpy as np\n",
        "import torch.nn as nn\n",
        "from torchsummaryX import summary"
      ],
      "metadata": {
        "id": "kbiZ8EuA5uQs"
      },
      "execution_count": 2,
      "outputs": []
    },
    {
      "cell_type": "markdown",
      "source": [
        "# Constants"
      ],
      "metadata": {
        "id": "Q8n20LGLIEjF"
      }
    },
    {
      "cell_type": "code",
      "source": [
        "num_quantiles = 10 # H_in\n",
        "look_back_window = 5 # L\n",
        "hidden_size = 128\n",
        "n = 50\n",
        "\n",
        "device = 'cuda' if torch.cuda.is_available() else 'cpu'"
      ],
      "metadata": {
        "id": "G7NrBoP650oi"
      },
      "execution_count": 3,
      "outputs": []
    },
    {
      "cell_type": "markdown",
      "source": [
        "# Model"
      ],
      "metadata": {
        "id": "9HekmMW89Q7S"
      }
    },
    {
      "cell_type": "code",
      "source": [
        "x = torch.randn((look_back_window, 1, num_quantiles))"
      ],
      "metadata": {
        "id": "aWyIKDylG4_M"
      },
      "execution_count": 4,
      "outputs": []
    },
    {
      "cell_type": "code",
      "source": [
        "class Network(nn.Module):\n",
        "\n",
        "    def __init__(self, input_size, output_size, hidden_size): # You can add any extra arguments as you wish\n",
        "\n",
        "        super(Network, self).__init__()\n",
        "        \n",
        "        self.lstm = nn.LSTM(input_size=input_size, hidden_size=hidden_size, bidirectional=False)\n",
        "\n",
        "        self.classification = nn.Linear(in_features=hidden_size, out_features=output_size)\n",
        "\n",
        "    def forward(self, x):\n",
        "\n",
        "        output, (h_n, c_n) = self.lstm(x)\n",
        "        # output: (L, 1 * H_out)\n",
        "\n",
        "        out = self.classification(output)\n",
        "\n",
        "        return out\n",
        "\n",
        "model = Network(num_quantiles, num_quantiles, hidden_size).to(device)\n",
        "summary(model, x.to(device)) "
      ],
      "metadata": {
        "colab": {
          "base_uri": "https://localhost:8080/",
          "height": 413
        },
        "id": "Kw2sDJk-9TwD",
        "outputId": "615860b3-31c7-4ea0-e823-f279da152518"
      },
      "execution_count": 5,
      "outputs": [
        {
          "output_type": "stream",
          "name": "stdout",
          "text": [
            "=============================================================\n",
            "                 Kernel Shape Output Shape  Params  Mult-Adds\n",
            "Layer                                                        \n",
            "0_lstm                      -  [5, 1, 128]   71680      70656\n",
            "1_classification    [128, 10]   [5, 1, 10]    1290       1280\n",
            "-------------------------------------------------------------\n",
            "                      Totals\n",
            "Total params           72970\n",
            "Trainable params       72970\n",
            "Non-trainable params       0\n",
            "Mult-Adds              71936\n",
            "=============================================================\n"
          ]
        },
        {
          "output_type": "stream",
          "name": "stderr",
          "text": [
            "/usr/local/lib/python3.7/dist-packages/torchsummaryX/torchsummaryX.py:101: FutureWarning: Dropping of nuisance columns in DataFrame reductions (with 'numeric_only=None') is deprecated; in a future version this will raise TypeError.  Select only valid columns before calling the reduction.\n",
            "  df_sum = df.sum()\n"
          ]
        },
        {
          "output_type": "execute_result",
          "data": {
            "text/plain": [
              "                 Kernel Shape Output Shape  Params  Mult-Adds\n",
              "Layer                                                        \n",
              "0_lstm                      -  [5, 1, 128]   71680      70656\n",
              "1_classification    [128, 10]   [5, 1, 10]    1290       1280"
            ],
            "text/html": [
              "\n",
              "  <div id=\"df-85d4b965-765e-48a3-9244-228c09724844\">\n",
              "    <div class=\"colab-df-container\">\n",
              "      <div>\n",
              "<style scoped>\n",
              "    .dataframe tbody tr th:only-of-type {\n",
              "        vertical-align: middle;\n",
              "    }\n",
              "\n",
              "    .dataframe tbody tr th {\n",
              "        vertical-align: top;\n",
              "    }\n",
              "\n",
              "    .dataframe thead th {\n",
              "        text-align: right;\n",
              "    }\n",
              "</style>\n",
              "<table border=\"1\" class=\"dataframe\">\n",
              "  <thead>\n",
              "    <tr style=\"text-align: right;\">\n",
              "      <th></th>\n",
              "      <th>Kernel Shape</th>\n",
              "      <th>Output Shape</th>\n",
              "      <th>Params</th>\n",
              "      <th>Mult-Adds</th>\n",
              "    </tr>\n",
              "    <tr>\n",
              "      <th>Layer</th>\n",
              "      <th></th>\n",
              "      <th></th>\n",
              "      <th></th>\n",
              "      <th></th>\n",
              "    </tr>\n",
              "  </thead>\n",
              "  <tbody>\n",
              "    <tr>\n",
              "      <th>0_lstm</th>\n",
              "      <td>-</td>\n",
              "      <td>[5, 1, 128]</td>\n",
              "      <td>71680</td>\n",
              "      <td>70656</td>\n",
              "    </tr>\n",
              "    <tr>\n",
              "      <th>1_classification</th>\n",
              "      <td>[128, 10]</td>\n",
              "      <td>[5, 1, 10]</td>\n",
              "      <td>1290</td>\n",
              "      <td>1280</td>\n",
              "    </tr>\n",
              "  </tbody>\n",
              "</table>\n",
              "</div>\n",
              "      <button class=\"colab-df-convert\" onclick=\"convertToInteractive('df-85d4b965-765e-48a3-9244-228c09724844')\"\n",
              "              title=\"Convert this dataframe to an interactive table.\"\n",
              "              style=\"display:none;\">\n",
              "        \n",
              "  <svg xmlns=\"http://www.w3.org/2000/svg\" height=\"24px\"viewBox=\"0 0 24 24\"\n",
              "       width=\"24px\">\n",
              "    <path d=\"M0 0h24v24H0V0z\" fill=\"none\"/>\n",
              "    <path d=\"M18.56 5.44l.94 2.06.94-2.06 2.06-.94-2.06-.94-.94-2.06-.94 2.06-2.06.94zm-11 1L8.5 8.5l.94-2.06 2.06-.94-2.06-.94L8.5 2.5l-.94 2.06-2.06.94zm10 10l.94 2.06.94-2.06 2.06-.94-2.06-.94-.94-2.06-.94 2.06-2.06.94z\"/><path d=\"M17.41 7.96l-1.37-1.37c-.4-.4-.92-.59-1.43-.59-.52 0-1.04.2-1.43.59L10.3 9.45l-7.72 7.72c-.78.78-.78 2.05 0 2.83L4 21.41c.39.39.9.59 1.41.59.51 0 1.02-.2 1.41-.59l7.78-7.78 2.81-2.81c.8-.78.8-2.07 0-2.86zM5.41 20L4 18.59l7.72-7.72 1.47 1.35L5.41 20z\"/>\n",
              "  </svg>\n",
              "      </button>\n",
              "      \n",
              "  <style>\n",
              "    .colab-df-container {\n",
              "      display:flex;\n",
              "      flex-wrap:wrap;\n",
              "      gap: 12px;\n",
              "    }\n",
              "\n",
              "    .colab-df-convert {\n",
              "      background-color: #E8F0FE;\n",
              "      border: none;\n",
              "      border-radius: 50%;\n",
              "      cursor: pointer;\n",
              "      display: none;\n",
              "      fill: #1967D2;\n",
              "      height: 32px;\n",
              "      padding: 0 0 0 0;\n",
              "      width: 32px;\n",
              "    }\n",
              "\n",
              "    .colab-df-convert:hover {\n",
              "      background-color: #E2EBFA;\n",
              "      box-shadow: 0px 1px 2px rgba(60, 64, 67, 0.3), 0px 1px 3px 1px rgba(60, 64, 67, 0.15);\n",
              "      fill: #174EA6;\n",
              "    }\n",
              "\n",
              "    [theme=dark] .colab-df-convert {\n",
              "      background-color: #3B4455;\n",
              "      fill: #D2E3FC;\n",
              "    }\n",
              "\n",
              "    [theme=dark] .colab-df-convert:hover {\n",
              "      background-color: #434B5C;\n",
              "      box-shadow: 0px 1px 3px 1px rgba(0, 0, 0, 0.15);\n",
              "      filter: drop-shadow(0px 1px 2px rgba(0, 0, 0, 0.3));\n",
              "      fill: #FFFFFF;\n",
              "    }\n",
              "  </style>\n",
              "\n",
              "      <script>\n",
              "        const buttonEl =\n",
              "          document.querySelector('#df-85d4b965-765e-48a3-9244-228c09724844 button.colab-df-convert');\n",
              "        buttonEl.style.display =\n",
              "          google.colab.kernel.accessAllowed ? 'block' : 'none';\n",
              "\n",
              "        async function convertToInteractive(key) {\n",
              "          const element = document.querySelector('#df-85d4b965-765e-48a3-9244-228c09724844');\n",
              "          const dataTable =\n",
              "            await google.colab.kernel.invokeFunction('convertToInteractive',\n",
              "                                                     [key], {});\n",
              "          if (!dataTable) return;\n",
              "\n",
              "          const docLinkHtml = 'Like what you see? Visit the ' +\n",
              "            '<a target=\"_blank\" href=https://colab.research.google.com/notebooks/data_table.ipynb>data table notebook</a>'\n",
              "            + ' to learn more about interactive tables.';\n",
              "          element.innerHTML = '';\n",
              "          dataTable['output_type'] = 'display_data';\n",
              "          await google.colab.output.renderOutput(dataTable, element);\n",
              "          const docLink = document.createElement('div');\n",
              "          docLink.innerHTML = docLinkHtml;\n",
              "          element.appendChild(docLink);\n",
              "        }\n",
              "      </script>\n",
              "    </div>\n",
              "  </div>\n",
              "  "
            ]
          },
          "metadata": {},
          "execution_count": 5
        }
      ]
    },
    {
      "cell_type": "code",
      "source": [
        "x_train = torch.randn(n, look_back_window, 1, num_quantiles) # n\n",
        "y_train = torch.randn(n, 1, num_quantiles)"
      ],
      "metadata": {
        "id": "uu1yQd2SGJAn"
      },
      "execution_count": 9,
      "outputs": []
    },
    {
      "cell_type": "markdown",
      "source": [
        "# Model Parameters"
      ],
      "metadata": {
        "id": "nY1oWYnVISeC"
      }
    },
    {
      "cell_type": "code",
      "source": [
        "epochs = 50\n",
        "lr = 0.001\n",
        "loss_function = nn.MSELoss()\n",
        "optimizer = torch.optim.Adam(model.parameters(), lr=lr)"
      ],
      "metadata": {
        "id": "qs58F7wmIL1D"
      },
      "execution_count": 10,
      "outputs": []
    },
    {
      "cell_type": "markdown",
      "source": [
        "# Model Training"
      ],
      "metadata": {
        "id": "tbIHPvUsJ96V"
      }
    },
    {
      "cell_type": "code",
      "source": [
        "for epoch in range(epochs):\n",
        "    arr = np.arange(len(x_train))\n",
        "    np.random.shuffle(arr)\n",
        "    for ind in arr:\n",
        "        seq = x_train[ind]\n",
        "        labels = y_train[ind]\n",
        "        optimizer.zero_grad()\n",
        "\n",
        "        y_pred = model(seq)\n",
        "\n",
        "        single_loss = loss_function(y_pred[-1, :, :], labels)\n",
        "        \n",
        "        single_loss.backward()\n",
        "        optimizer.step()\n",
        "\n",
        "    print(f\"[LSTM FIT]epoch: {epoch + 1:3} loss: {single_loss.item():10.8f}\")"
      ],
      "metadata": {
        "colab": {
          "base_uri": "https://localhost:8080/"
        },
        "id": "fsHYxBhLIrpt",
        "outputId": "f216da81-a3e9-441c-8855-365253b788d1"
      },
      "execution_count": 17,
      "outputs": [
        {
          "output_type": "stream",
          "name": "stdout",
          "text": [
            "[LSTM FIT]epoch:   1 loss: 0.00138746\n",
            "[LSTM FIT]epoch:   2 loss: 0.00189571\n",
            "[LSTM FIT]epoch:   3 loss: 0.00063254\n",
            "[LSTM FIT]epoch:   4 loss: 0.00513293\n",
            "[LSTM FIT]epoch:   5 loss: 0.00193271\n",
            "[LSTM FIT]epoch:   6 loss: 0.00686951\n",
            "[LSTM FIT]epoch:   7 loss: 0.00086578\n",
            "[LSTM FIT]epoch:   8 loss: 0.00623362\n",
            "[LSTM FIT]epoch:   9 loss: 0.00367014\n",
            "[LSTM FIT]epoch:  10 loss: 0.00237094\n",
            "[LSTM FIT]epoch:  11 loss: 0.00544881\n",
            "[LSTM FIT]epoch:  12 loss: 0.00402756\n",
            "[LSTM FIT]epoch:  13 loss: 0.00496324\n",
            "[LSTM FIT]epoch:  14 loss: 0.00188385\n",
            "[LSTM FIT]epoch:  15 loss: 0.00219478\n",
            "[LSTM FIT]epoch:  16 loss: 0.00066603\n",
            "[LSTM FIT]epoch:  17 loss: 0.00073235\n",
            "[LSTM FIT]epoch:  18 loss: 0.00089776\n",
            "[LSTM FIT]epoch:  19 loss: 0.00103045\n",
            "[LSTM FIT]epoch:  20 loss: 0.00056660\n",
            "[LSTM FIT]epoch:  21 loss: 0.00164224\n",
            "[LSTM FIT]epoch:  22 loss: 0.00133327\n",
            "[LSTM FIT]epoch:  23 loss: 0.00154545\n",
            "[LSTM FIT]epoch:  24 loss: 0.00051522\n",
            "[LSTM FIT]epoch:  25 loss: 0.00065057\n",
            "[LSTM FIT]epoch:  26 loss: 0.00046732\n",
            "[LSTM FIT]epoch:  27 loss: 0.00224373\n",
            "[LSTM FIT]epoch:  28 loss: 0.00176145\n",
            "[LSTM FIT]epoch:  29 loss: 0.00865052\n",
            "[LSTM FIT]epoch:  30 loss: 0.00649106\n",
            "[LSTM FIT]epoch:  31 loss: 0.00148830\n",
            "[LSTM FIT]epoch:  32 loss: 0.00601151\n",
            "[LSTM FIT]epoch:  33 loss: 0.00187958\n",
            "[LSTM FIT]epoch:  34 loss: 0.00220541\n",
            "[LSTM FIT]epoch:  35 loss: 0.00301207\n",
            "[LSTM FIT]epoch:  36 loss: 0.00227196\n",
            "[LSTM FIT]epoch:  37 loss: 0.00067516\n",
            "[LSTM FIT]epoch:  38 loss: 0.00070263\n",
            "[LSTM FIT]epoch:  39 loss: 0.00219766\n",
            "[LSTM FIT]epoch:  40 loss: 0.00201296\n",
            "[LSTM FIT]epoch:  41 loss: 0.00127911\n",
            "[LSTM FIT]epoch:  42 loss: 0.00041101\n",
            "[LSTM FIT]epoch:  43 loss: 0.00149250\n",
            "[LSTM FIT]epoch:  44 loss: 0.00078632\n",
            "[LSTM FIT]epoch:  45 loss: 0.00158377\n",
            "[LSTM FIT]epoch:  46 loss: 0.00142813\n",
            "[LSTM FIT]epoch:  47 loss: 0.00027473\n",
            "[LSTM FIT]epoch:  48 loss: 0.00080971\n",
            "[LSTM FIT]epoch:  49 loss: 0.00126059\n",
            "[LSTM FIT]epoch:  50 loss: 0.00095439\n"
          ]
        }
      ]
    },
    {
      "cell_type": "code",
      "source": [
        ""
      ],
      "metadata": {
        "id": "ipR1UOxyNPqa"
      },
      "execution_count": null,
      "outputs": []
    }
  ]
}